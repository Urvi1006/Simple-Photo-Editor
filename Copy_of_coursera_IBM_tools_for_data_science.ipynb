{
  "cells": [
    {
      "cell_type": "markdown",
      "metadata": {
        "id": "view-in-github",
        "colab_type": "text"
      },
      "source": [
        "<a href=\"https://colab.research.google.com/github/Urvi1006/Simple-Photo-Editor/blob/main/Copy_of_coursera_IBM_tools_for_data_science.ipynb\" target=\"_parent\"><img src=\"https://colab.research.google.com/assets/colab-badge.svg\" alt=\"Open In Colab\"/></a>"
      ]
    },
    {
      "cell_type": "markdown",
      "id": "996909a9",
      "metadata": {
        "id": "996909a9"
      },
      "source": [
        "# My Jupiter Notebook on IBM Watson Studio"
      ]
    },
    {
      "cell_type": "markdown",
      "id": "7599d7b2",
      "metadata": {
        "id": "7599d7b2"
      },
      "source": [
        "by Urvi"
      ]
    },
    {
      "cell_type": "markdown",
      "id": "bfb39903",
      "metadata": {
        "id": "bfb39903"
      },
      "source": [
        "* *italicised text*I am interested in data science because of numerous reasons.*"
      ]
    },
    {
      "cell_type": "markdown",
      "id": "64d49fd4",
      "metadata": {
        "id": "64d49fd4"
      },
      "source": [
        "<h3>Gauss formula"
      ]
    },
    {
      "cell_type": "markdown",
      "source": [],
      "metadata": {
        "id": "HKfsKm7PDgux"
      },
      "id": "HKfsKm7PDgux"
    },
    {
      "cell_type": "code",
      "execution_count": null,
      "id": "2b52ca60",
      "metadata": {
        "id": "2b52ca60",
        "outputId": "773435be-415f-4ff7-fba6-31fa08359497"
      },
      "outputs": [
        {
          "data": {
            "text/plain": [
              "True"
            ]
          },
          "execution_count": 1,
          "metadata": {},
          "output_type": "execute_result"
        }
      ],
      "source": [
        "def gauss (n):\n",
        "    return (n*(n+1))/2\n",
        "\n",
        "gauss (100) == sum(range(101))"
      ]
    },
    {
      "cell_type": "markdown",
      "id": "83ef4ca2",
      "metadata": {
        "id": "83ef4ca2"
      },
      "source": [
        "+ one <br>\n",
        "+ two<br>\n",
        "+ three<br>\n",
        "* four<br>\n",
        "- five"
      ]
    },
    {
      "cell_type": "markdown",
      "id": "b667c1bd",
      "metadata": {
        "id": "b667c1bd"
      },
      "source": [
        "**Col1** |**Col2** |**Col3**\n",
        "-----|-----|-----\n",
        "*Data1*|*Data2*|*Data3*\n",
        "Data1|Data2|Data3\n",
        "Data1|Data2|Data3\n",
        "Data1|Data2|Data3"
      ]
    },
    {
      "cell_type": "markdown",
      "id": "04469def",
      "metadata": {
        "id": "04469def"
      },
      "source": [
        "Col1 |Col2 |Col3\n",
        "-----|-----|-----\n",
        "Data1|Data2|Data3\n",
        "Data1|Data2|Data3\n",
        "Data1|Data2|Data3\n",
        "Data1|Data2|Data3"
      ]
    }
  ],
  "metadata": {
    "kernelspec": {
      "display_name": "Python 3 (ipykernel)",
      "language": "python",
      "name": "python3"
    },
    "language_info": {
      "codemirror_mode": {
        "name": "ipython",
        "version": 3
      },
      "file_extension": ".py",
      "mimetype": "text/x-python",
      "name": "python",
      "nbconvert_exporter": "python",
      "pygments_lexer": "ipython3",
      "version": "3.9.7"
    },
    "colab": {
      "provenance": [],
      "include_colab_link": true
    }
  },
  "nbformat": 4,
  "nbformat_minor": 5
}